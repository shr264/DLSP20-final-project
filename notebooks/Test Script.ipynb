{
 "cells": [
  {
   "cell_type": "code",
   "execution_count": 1,
   "metadata": {},
   "outputs": [
    {
     "data": {
      "text/plain": [
       "True"
      ]
     },
     "execution_count": 1,
     "metadata": {},
     "output_type": "execute_result"
    }
   ],
   "source": [
    "import os\n",
    "import time\n",
    "import sys\n",
    "import random\n",
    "import psutil\n",
    "\n",
    "import json\n",
    "import copy\n",
    "import numpy as np\n",
    "import pandas as pd\n",
    "from collections import Counter\n",
    "\n",
    "from skimage.measure import label\n",
    "from scipy.ndimage.morphology import distance_transform_edt\n",
    "\n",
    "import matplotlib\n",
    "import matplotlib.pyplot as plt\n",
    "matplotlib.rcParams['figure.figsize'] = [5, 5]\n",
    "matplotlib.rcParams['figure.dpi'] = 200\n",
    "\n",
    "import torch\n",
    "import torch.nn as nn\n",
    "import torch.nn.functional as F\n",
    "import torchvision\n",
    "import torch.optim as optim\n",
    "from torch.nn import init\n",
    "from torch.optim.lr_scheduler import ReduceLROnPlateau\n",
    "from torch.autograd import Variable\n",
    "from collections import OrderedDict\n",
    "from sklearn.metrics import confusion_matrix\n",
    "\n",
    "from utils import create_conf_matrix2, split_list, convert_to_binary_mask, classScores\n",
    "#if there is a utils folder change name above\n",
    "from models import UNet2\n",
    "from data_helper import UnlabeledDataset, LabeledDataset\n",
    "from helper import collate_fn, draw_box\n",
    "from loss_functions import loss_function_iou\n",
    "\n",
    "random.seed(0)\n",
    "np.random.seed(0)\n",
    "torch.manual_seed(0);\n",
    "\n",
    "# All the images are saved in image_folder\n",
    "# All the labels are saved in the annotation_csv file\n",
    "#image_folder = '../../DLSP20Dataset/data'\n",
    "#annotation_csv = '../../DLSP20Dataset/data/annotation.csv'\n",
    "\n",
    "#azure\n",
    "image_folder = '../../data'\n",
    "annotation_csv = '../../data/annotation.csv'\n",
    "\n",
    "\n",
    "#device = torch.device(\"cuda:0\" if torch.cuda.is_available() else \"cpu\")\n",
    "device = 'cpu'\n",
    "\n",
    "torch.cuda.is_available()"
   ]
  },
  {
   "cell_type": "code",
   "execution_count": 2,
   "metadata": {},
   "outputs": [],
   "source": [
    "# You shouldn't change the unlabeled_scene_index\n",
    "# The first 106 scenes are unlabeled\n",
    "unlabeled_scene_index = np.arange(106)\n",
    "# The scenes from 106 - 133 are labeled\n",
    "# You should devide the labeled_scene_index into two subsets (training and validation)\n",
    "labeled_scene_index = np.arange(106, 134)\n",
    "\n",
    "train_scene_index = np.random.choice(labeled_scene_index, int(np.ceil(0.9*len(labeled_scene_index))))\n",
    "\n",
    "test_scene_index = labeled_scene_index[np.isin(labeled_scene_index, train_scene_index, invert=True)]\n",
    "\n",
    "val_scene_index, test_scene_index = split_list(test_scene_index)\n",
    "\n",
    "\n",
    "transform=torchvision.transforms.Compose([torchvision.transforms.Resize((100,100)),\n",
    "                                          torchvision.transforms.ToTensor(),\n",
    "                              #torchvision.transforms.Normalize((0.5, 0.5, 0.5), (0.5, 0.5, 0.5)),\n",
    "                             ])\n",
    "\n",
    "batch_size = 1\n",
    "\n",
    "labeled_valset = LabeledDataset(image_folder=image_folder,\n",
    "                                  annotation_file=annotation_csv,\n",
    "                                  scene_index=val_scene_index,\n",
    "                                  transform=transform,\n",
    "                                  extra_info=True\n",
    "                                 )\n",
    "\n",
    "valloader = torch.utils.data.DataLoader(labeled_valset, \n",
    "                                          batch_size=batch_size, \n",
    "                                          shuffle=True, \n",
    "                                          num_workers=0, \n",
    "                                          collate_fn=collate_fn)\n",
    "\n",
    "labeled_testset = LabeledDataset(image_folder=image_folder,\n",
    "                                  annotation_file=annotation_csv,\n",
    "                                  scene_index=test_scene_index,\n",
    "                                  transform=transform,\n",
    "                                  extra_info=True\n",
    "                                 )\n",
    "\n",
    "testloader = torch.utils.data.DataLoader(labeled_testset, \n",
    "                                          batch_size=batch_size, \n",
    "                                          shuffle=True, \n",
    "                                          num_workers=0, \n",
    "                                          collate_fn=collate_fn)"
   ]
  },
  {
   "cell_type": "code",
   "execution_count": 3,
   "metadata": {},
   "outputs": [],
   "source": [
    "def validate_model_BB(model, num_points, loss_function, device=None, img_w=100, img_h=100):\n",
    "    threshold_values = np.linspace(0.01,0.99,num_points)\n",
    "    correct = [0]*num_points\n",
    "    total = [0]*num_points\n",
    "    accuracy_list = [None]*num_points\n",
    "    threat_score_list = [None]*num_points\n",
    "    conf_matrices = [torch.zeros(2,2).to(device),torch.zeros(2,2).to(device)]*num_points\n",
    "    max_threat_score = 0\n",
    "    opt_threshold = 0.5\n",
    "    for k,threshold in enumerate(threshold_values):  \n",
    "        with torch.no_grad():\n",
    "            model.eval()\n",
    "            test_loss = 0\n",
    "            for batch_idx, data in enumerate(valloader):\n",
    "                sample, target, road_image, extra = data\n",
    "                batch_size = len(road_image)\n",
    "                x = torch.zeros((batch_size,1,800,800))\n",
    "                #x[:,0,:,:] = 1.0*torch.stack(road_image).reshape(-1, 800, 800)\n",
    "                x[:,0,:,:] = torch.zeros((batch_size,800,800))\n",
    "                for i in range(batch_size):\n",
    "                    for cat, bb in zip(target[i]['category'], target[i]['bounding_box']):\n",
    "                        x[i,0,:,:] = 1.0*convert_to_binary_mask(bb)\n",
    "                x = x.to(device) \n",
    "                y = torch.stack(sample).reshape(6,-1,3,img_w,img_h).to(device)\n",
    "\n",
    "                # ===================forward=====================\n",
    "                x_hat = model(y)\n",
    "                test_loss += loss_function(x_hat, x).item()\n",
    "                # =====================log=======================\n",
    "\n",
    "                i = 0\n",
    "                correct[k] += (x_hat[:,i,:,:]>threshold).eq(\n",
    "                    (x[:,i,:,:]==1).data.view_as((\n",
    "                        x_hat[:,i,:,:]>threshold))).cpu().sum().item()\n",
    "                total[k] += x[:,i,:,:].nelement()\n",
    "\n",
    "                conf_matrices[k] += create_conf_matrix2(1*(x[:,i,:,:]==1), 1*(x_hat[:,i,:,:]>threshold), device=device)\n",
    "                #print('='*100)\n",
    "\n",
    "\n",
    "        accuracy_list[k] = 100. * correct[k] / total[k]\n",
    "        TP, TN, FP, FN = classScores(conf_matrices[k])\n",
    "        threat_score_list[k] = TP[1]*1.0/(TP[1]+FP[1]+FN[1])\n",
    "        if threat_score_list[k] > max_threat_score:\n",
    "            print('Updating threat score from {} to {}'.format(threat_score_list[k],max_threat_score))\n",
    "            max_threat_score = threat_score_list[k]\n",
    "            opt_threshold = threshold\n",
    "\n",
    "        print(\"\"\"\\nValidation set: \n",
    "        Average loss: {:.9f}, \n",
    "        Accuracy BB: {}/{} ({:.9f}%) ,\n",
    "        BB: \n",
    "        TP {} \n",
    "        TN {}\n",
    "        FP {}\n",
    "        FN {}\n",
    "        Threat Score {}\"\"\".format(\n",
    "            test_loss, \n",
    "            correct[k], total[k], accuracy_list[k],\n",
    "             TP[1], TN[1], FP[1], FN[1], threat_score_list[k]))\n",
    "\n",
    "        # ===================log========================\n",
    "        test_loss /= len(testloader.dataset)\n",
    "        print(f'====> Validation set loss: {test_loss:.9f}')\n",
    "    return opt_threshold, max_threat_score"
   ]
  },
  {
   "cell_type": "code",
   "execution_count": 7,
   "metadata": {},
   "outputs": [],
   "source": [
    "def validate_model_Road(model, num_points, loss_function, device=None, img_w=100, img_h=100, low=0.01, high=0.99):\n",
    "    threshold_values = np.linspace(low,high,num_points)\n",
    "    correct = [0]*num_points\n",
    "    total = [0]*num_points\n",
    "    accuracy_list = [None]*num_points\n",
    "    threat_score_list = [None]*num_points\n",
    "    conf_matrices = [torch.zeros(2,2).to(device),torch.zeros(2,2).to(device)]*num_points\n",
    "    max_threat_score = 0\n",
    "    opt_threshold = 0.5\n",
    "    for k,threshold in enumerate(threshold_values):  \n",
    "        with torch.no_grad():\n",
    "            model.eval()\n",
    "            test_loss = 0\n",
    "            for batch_idx, data in enumerate(valloader):\n",
    "                sample, target, road_image, extra = data\n",
    "                batch_size = len(road_image)\n",
    "                x = torch.zeros((batch_size,1,800,800))\n",
    "                x[:,0,:,:] = 1.0*torch.stack(road_image).reshape(-1, 800, 800)\n",
    "                #x[:,0,:,:] = torch.zeros((batch_size,800,800))\n",
    "                #for i in range(batch_size):\n",
    "                #    for cat, bb in zip(target[i]['category'], target[i]['bounding_box']):\n",
    "                #        x[i,0,:,:] = 1.0*convert_to_binary_mask(bb)\n",
    "                x = x.to(device) \n",
    "                y = torch.stack(sample).reshape(6,-1,3,img_w,img_h).to(device)\n",
    "\n",
    "                # ===================forward=====================\n",
    "                x_hat = model(y)\n",
    "                test_loss += loss_function(x_hat, x, device=device).item()\n",
    "                # =====================log=======================\n",
    "\n",
    "                i = 0\n",
    "                correct[k] += (x_hat[:,i,:,:]>threshold).eq(\n",
    "                    (x[:,i,:,:]==1).data.view_as((\n",
    "                        x_hat[:,i,:,:]>threshold))).cpu().sum().item()\n",
    "                total[k] += x[:,i,:,:].nelement()\n",
    "\n",
    "                conf_matrices[k] += create_conf_matrix2(1*(x[:,i,:,:]==1), 1*(x_hat[:,i,:,:]>threshold), device=device)\n",
    "                #print('='*100)\n",
    "\n",
    "\n",
    "        accuracy_list[k] = 100. * correct[k] / total[k]\n",
    "        TP, TN, FP, FN = classScores(conf_matrices[k])\n",
    "        threat_score_list[k] = TP[1]*1.0/(TP[1]+FP[1]+FN[1])\n",
    "        if threat_score_list[k] > max_threat_score:\n",
    "            print('Updating threat score from {} to {}'.format(threat_score_list[k],max_threat_score))\n",
    "            max_threat_score = threat_score_list[k]\n",
    "            opt_threshold = threshold\n",
    "\n",
    "        print(\"\"\"\\nValidation set: \n",
    "        Average loss: {:.9f}, \n",
    "        Accuracy BB: {}/{} ({:.9f}%) ,\n",
    "        BB: \n",
    "        TP {} \n",
    "        TN {}\n",
    "        FP {}\n",
    "        FN {}\n",
    "        Threat Score {}\"\"\".format(\n",
    "            test_loss, \n",
    "            correct[k], total[k], accuracy_list[k],\n",
    "             TP[1], TN[1], FP[1], FN[1], threat_score_list[k]))\n",
    "\n",
    "        # ===================log========================\n",
    "        test_loss /= len(testloader.dataset)\n",
    "        print(f'====> Validation set loss: {test_loss:.9f}')\n",
    "    return opt_threshold, max_threat_score"
   ]
  },
  {
   "cell_type": "code",
   "execution_count": 5,
   "metadata": {},
   "outputs": [
    {
     "data": {
      "text/plain": [
       "UNet2(\n",
       "  (dconv_down1): Sequential(\n",
       "    (0): Conv2d(3, 16, kernel_size=(3, 3), stride=(1, 1), padding=(1, 1))\n",
       "    (1): LeakyReLU(negative_slope=0.1)\n",
       "    (2): BatchNorm2d(16, eps=1e-05, momentum=0.1, affine=True, track_running_stats=True)\n",
       "    (3): Conv2d(16, 16, kernel_size=(3, 3), stride=(1, 1), padding=(1, 1))\n",
       "    (4): LeakyReLU(negative_slope=0.1)\n",
       "    (5): BatchNorm2d(16, eps=1e-05, momentum=0.1, affine=True, track_running_stats=True)\n",
       "  )\n",
       "  (dconv_down2): Sequential(\n",
       "    (0): Conv2d(16, 32, kernel_size=(3, 3), stride=(1, 1), padding=(1, 1))\n",
       "    (1): LeakyReLU(negative_slope=0.1)\n",
       "    (2): BatchNorm2d(32, eps=1e-05, momentum=0.1, affine=True, track_running_stats=True)\n",
       "    (3): Conv2d(32, 32, kernel_size=(3, 3), stride=(1, 1), padding=(1, 1))\n",
       "    (4): LeakyReLU(negative_slope=0.1)\n",
       "    (5): BatchNorm2d(32, eps=1e-05, momentum=0.1, affine=True, track_running_stats=True)\n",
       "  )\n",
       "  (dconv_down3): Sequential(\n",
       "    (0): Conv2d(32, 48, kernel_size=(3, 3), stride=(1, 1), padding=(1, 1))\n",
       "    (1): LeakyReLU(negative_slope=0.1)\n",
       "    (2): BatchNorm2d(48, eps=1e-05, momentum=0.1, affine=True, track_running_stats=True)\n",
       "    (3): Conv2d(48, 48, kernel_size=(3, 3), stride=(1, 1), padding=(1, 1))\n",
       "    (4): LeakyReLU(negative_slope=0.1)\n",
       "    (5): BatchNorm2d(48, eps=1e-05, momentum=0.1, affine=True, track_running_stats=True)\n",
       "  )\n",
       "  (dconv_down4): Sequential(\n",
       "    (0): Conv2d(48, 64, kernel_size=(3, 3), stride=(1, 1), padding=(1, 1))\n",
       "    (1): LeakyReLU(negative_slope=0.1)\n",
       "    (2): BatchNorm2d(64, eps=1e-05, momentum=0.1, affine=True, track_running_stats=True)\n",
       "    (3): Conv2d(64, 64, kernel_size=(3, 3), stride=(1, 1), padding=(1, 1))\n",
       "    (4): LeakyReLU(negative_slope=0.1)\n",
       "    (5): BatchNorm2d(64, eps=1e-05, momentum=0.1, affine=True, track_running_stats=True)\n",
       "  )\n",
       "  (maxpool): MaxPool2d(kernel_size=2, stride=2, padding=0, dilation=1, ceil_mode=False)\n",
       "  (upsample): Upsample(scale_factor=2.0, mode=bilinear)\n",
       "  (dconv_up4): Sequential(\n",
       "    (0): ConvTranspose2d(64, 64, kernel_size=(2, 2), stride=(2, 2), output_padding=(1, 1))\n",
       "    (1): BatchNorm2d(64, eps=1e-05, momentum=0.1, affine=True, track_running_stats=True)\n",
       "    (2): Conv2d(64, 64, kernel_size=(3, 3), stride=(1, 1), padding=(1, 1))\n",
       "    (3): LeakyReLU(negative_slope=0.1)\n",
       "    (4): BatchNorm2d(64, eps=1e-05, momentum=0.1, affine=True, track_running_stats=True)\n",
       "  )\n",
       "  (dconv_up3): Sequential(\n",
       "    (0): ConvTranspose2d(112, 48, kernel_size=(2, 2), stride=(2, 2))\n",
       "    (1): LeakyReLU(negative_slope=0.1)\n",
       "    (2): BatchNorm2d(48, eps=1e-05, momentum=0.1, affine=True, track_running_stats=True)\n",
       "  )\n",
       "  (dconv_up2): Sequential(\n",
       "    (0): ConvTranspose2d(80, 32, kernel_size=(2, 2), stride=(2, 2))\n",
       "    (1): BatchNorm2d(32, eps=1e-05, momentum=0.1, affine=True, track_running_stats=True)\n",
       "    (2): Conv2d(32, 32, kernel_size=(3, 3), stride=(1, 1), padding=(1, 1))\n",
       "    (3): LeakyReLU(negative_slope=0.1)\n",
       "    (4): BatchNorm2d(32, eps=1e-05, momentum=0.1, affine=True, track_running_stats=True)\n",
       "  )\n",
       "  (dconv_up1): Sequential(\n",
       "    (0): ConvTranspose2d(48, 16, kernel_size=(2, 2), stride=(2, 2))\n",
       "    (1): LeakyReLU(negative_slope=0.1)\n",
       "    (2): BatchNorm2d(16, eps=1e-05, momentum=0.1, affine=True, track_running_stats=True)\n",
       "  )\n",
       "  (dconv_up0): Sequential(\n",
       "    (0): ConvTranspose2d(96, 48, kernel_size=(2, 2), stride=(2, 2))\n",
       "    (1): BatchNorm2d(48, eps=1e-05, momentum=0.1, affine=True, track_running_stats=True)\n",
       "    (2): Conv2d(48, 48, kernel_size=(3, 3), stride=(1, 1), padding=(1, 1))\n",
       "    (3): LeakyReLU(negative_slope=0.1)\n",
       "    (4): BatchNorm2d(48, eps=1e-05, momentum=0.1, affine=True, track_running_stats=True)\n",
       "  )\n",
       "  (dconv_up00): Sequential(\n",
       "    (0): ConvTranspose2d(48, 32, kernel_size=(2, 2), stride=(2, 2))\n",
       "    (1): LeakyReLU(negative_slope=0.1)\n",
       "    (2): BatchNorm2d(32, eps=1e-05, momentum=0.1, affine=True, track_running_stats=True)\n",
       "  )\n",
       "  (dconv_up000): Sequential(\n",
       "    (0): ConvTranspose2d(32, 16, kernel_size=(2, 2), stride=(2, 2))\n",
       "    (1): LeakyReLU(negative_slope=0.1)\n",
       "    (2): BatchNorm2d(16, eps=1e-05, momentum=0.1, affine=True, track_running_stats=True)\n",
       "  )\n",
       "  (conv_last): Conv2d(16, 1, kernel_size=(1, 1), stride=(2, 2))\n",
       ")"
      ]
     },
     "execution_count": 5,
     "metadata": {},
     "output_type": "execute_result"
    }
   ],
   "source": [
    "model = UNet2(1)\n",
    "model.load_state_dict(torch.load('models/unet_single_2_Roadmap_model_final.pth'))\n",
    "model.eval()"
   ]
  },
  {
   "cell_type": "code",
   "execution_count": 6,
   "metadata": {},
   "outputs": [],
   "source": [
    "device = 'cpu'"
   ]
  },
  {
   "cell_type": "code",
   "execution_count": 8,
   "metadata": {},
   "outputs": [
    {
     "name": "stdout",
     "output_type": "stream",
     "text": [
      "Confusion matrix\n",
      " tensor([[2.0730e+08, 4.1822e+07],\n",
      "        [2.6475e+07, 1.2760e+08]])\n",
      "Class 0\n",
      "TP 207298048.0, TN 127604936.0, FP 26474900.0, FN 41822024.0\n",
      "Class 1\n",
      "TP 127604936.0, TN 207298048.0, FP 41822024.0, FN 26474900.0\n",
      "Updating threat score from 0.6513717562737129 to 0\n",
      "\n",
      "Validation set: \n",
      "        Average loss: -373.055912412, \n",
      "        Accuracy BB: 334903097/403200000 (83.061283978%) ,\n",
      "        BB: \n",
      "        TP 127604936.0 \n",
      "        TN 207298048.0\n",
      "        FP 41822024.0\n",
      "        FN 26474900.0\n",
      "        Threat Score 0.6513717562737129\n",
      "====> Validation set loss: -0.592152242\n"
     ]
    },
    {
     "name": "stderr",
     "output_type": "stream",
     "text": [
      "/opt/conda/conda-bld/pytorch_1587428207430/work/aten/src/ATen/native/IndexingUtils.h:20: UserWarning: indexing with dtype torch.uint8 is now deprecated, please use a dtype torch.bool instead.\n",
      "/opt/conda/conda-bld/pytorch_1587428207430/work/aten/src/ATen/native/IndexingUtils.h:20: UserWarning: indexing with dtype torch.uint8 is now deprecated, please use a dtype torch.bool instead.\n",
      "/opt/conda/conda-bld/pytorch_1587428207430/work/aten/src/ATen/native/IndexingUtils.h:20: UserWarning: indexing with dtype torch.uint8 is now deprecated, please use a dtype torch.bool instead.\n",
      "/opt/conda/conda-bld/pytorch_1587428207430/work/aten/src/ATen/native/IndexingUtils.h:20: UserWarning: indexing with dtype torch.uint8 is now deprecated, please use a dtype torch.bool instead.\n"
     ]
    },
    {
     "name": "stdout",
     "output_type": "stream",
     "text": [
      "Confusion matrix\n",
      " tensor([[2.0734e+08, 4.1780e+07],\n",
      "        [2.6485e+07, 1.2760e+08]])\n",
      "Class 0\n",
      "TP 207339808.0, TN 127595048.0, FP 26484814.0, FN 41780472.0\n",
      "Class 1\n",
      "TP 127595048.0, TN 207339808.0, FP 41780472.0, FN 26484814.0\n",
      "Updating threat score from 0.6514593541798069 to 0.6513717562737129\n",
      "\n",
      "Validation set: \n",
      "        Average loss: -373.055912412, \n",
      "        Accuracy BB: 334934697/403200000 (83.069121280%) ,\n",
      "        BB: \n",
      "        TP 127595048.0 \n",
      "        TN 207339808.0\n",
      "        FP 41780472.0\n",
      "        FN 26484814.0\n",
      "        Threat Score 0.6514593541798069\n",
      "====> Validation set loss: -0.592152242\n"
     ]
    },
    {
     "name": "stderr",
     "output_type": "stream",
     "text": [
      "/opt/conda/conda-bld/pytorch_1587428207430/work/aten/src/ATen/native/IndexingUtils.h:20: UserWarning: indexing with dtype torch.uint8 is now deprecated, please use a dtype torch.bool instead.\n",
      "/opt/conda/conda-bld/pytorch_1587428207430/work/aten/src/ATen/native/IndexingUtils.h:20: UserWarning: indexing with dtype torch.uint8 is now deprecated, please use a dtype torch.bool instead.\n",
      "/opt/conda/conda-bld/pytorch_1587428207430/work/aten/src/ATen/native/IndexingUtils.h:20: UserWarning: indexing with dtype torch.uint8 is now deprecated, please use a dtype torch.bool instead.\n",
      "/opt/conda/conda-bld/pytorch_1587428207430/work/aten/src/ATen/native/IndexingUtils.h:20: UserWarning: indexing with dtype torch.uint8 is now deprecated, please use a dtype torch.bool instead.\n"
     ]
    },
    {
     "data": {
      "text/plain": [
       "(0.51, 0.6514593541798069)"
      ]
     },
     "execution_count": 8,
     "metadata": {},
     "output_type": "execute_result"
    }
   ],
   "source": [
    "validate_model_Road(model, 2, loss_function_iou, device=device, img_w=100, img_h=100, low=0.49, high=0.51)"
   ]
  },
  {
   "cell_type": "code",
   "execution_count": null,
   "metadata": {
    "scrolled": false
   },
   "outputs": [
    {
     "name": "stdout",
     "output_type": "stream",
     "text": [
      "Confusion matrix\n",
      " tensor([[2.0417e+08, 4.4949e+07],\n",
      "        [2.5835e+07, 1.2824e+08]])\n",
      "Class 0\n",
      "TP 204171312.0, TN 128244784.0, FP 25835092.0, FN 44948768.0\n",
      "Class 1\n",
      "TP 128244784.0, TN 204171312.0, FP 44948768.0, FN 25835092.0\n",
      "Updating threat score from 0.6443534156692223 to 0\n",
      "\n",
      "Validation set: \n",
      "        Average loss: -373.055912412, \n",
      "        Accuracy BB: 332416140/403200000 (82.444479167%) ,\n",
      "        BB: \n",
      "        TP 128244784.0 \n",
      "        TN 204171312.0\n",
      "        FP 44948768.0\n",
      "        FN 25835092.0\n",
      "        Threat Score 0.6443534156692223\n",
      "====> Validation set loss: -0.592152242\n"
     ]
    },
    {
     "name": "stderr",
     "output_type": "stream",
     "text": [
      "/opt/conda/conda-bld/pytorch_1587428207430/work/aten/src/ATen/native/IndexingUtils.h:20: UserWarning: indexing with dtype torch.uint8 is now deprecated, please use a dtype torch.bool instead.\n",
      "/opt/conda/conda-bld/pytorch_1587428207430/work/aten/src/ATen/native/IndexingUtils.h:20: UserWarning: indexing with dtype torch.uint8 is now deprecated, please use a dtype torch.bool instead.\n",
      "/opt/conda/conda-bld/pytorch_1587428207430/work/aten/src/ATen/native/IndexingUtils.h:20: UserWarning: indexing with dtype torch.uint8 is now deprecated, please use a dtype torch.bool instead.\n",
      "/opt/conda/conda-bld/pytorch_1587428207430/work/aten/src/ATen/native/IndexingUtils.h:20: UserWarning: indexing with dtype torch.uint8 is now deprecated, please use a dtype torch.bool instead.\n"
     ]
    },
    {
     "name": "stdout",
     "output_type": "stream",
     "text": [
      "Confusion matrix\n",
      " tensor([[2.0527e+08, 4.3854e+07],\n",
      "        [2.6050e+07, 1.2803e+08]])\n",
      "Class 0\n",
      "TP 205266144.0, TN 128029696.0, FP 26050178.0, FN 43853972.0\n",
      "Class 1\n",
      "TP 128029696.0, TN 205266144.0, FP 43853972.0, FN 26050178.0\n",
      "Updating threat score from 0.6468307592072179 to 0.6443534156692223\n",
      "\n",
      "Validation set: \n",
      "        Average loss: -373.055912412, \n",
      "        Accuracy BB: 333295826/403200000 (82.662655258%) ,\n",
      "        BB: \n",
      "        TP 128029696.0 \n",
      "        TN 205266144.0\n",
      "        FP 43853972.0\n",
      "        FN 26050178.0\n",
      "        Threat Score 0.6468307592072179\n",
      "====> Validation set loss: -0.592152242\n"
     ]
    },
    {
     "name": "stderr",
     "output_type": "stream",
     "text": [
      "/opt/conda/conda-bld/pytorch_1587428207430/work/aten/src/ATen/native/IndexingUtils.h:20: UserWarning: indexing with dtype torch.uint8 is now deprecated, please use a dtype torch.bool instead.\n",
      "/opt/conda/conda-bld/pytorch_1587428207430/work/aten/src/ATen/native/IndexingUtils.h:20: UserWarning: indexing with dtype torch.uint8 is now deprecated, please use a dtype torch.bool instead.\n",
      "/opt/conda/conda-bld/pytorch_1587428207430/work/aten/src/ATen/native/IndexingUtils.h:20: UserWarning: indexing with dtype torch.uint8 is now deprecated, please use a dtype torch.bool instead.\n",
      "/opt/conda/conda-bld/pytorch_1587428207430/work/aten/src/ATen/native/IndexingUtils.h:20: UserWarning: indexing with dtype torch.uint8 is now deprecated, please use a dtype torch.bool instead.\n"
     ]
    },
    {
     "name": "stdout",
     "output_type": "stream",
     "text": [
      "Confusion matrix\n",
      " tensor([[4.0983e+08, 8.8411e+07],\n",
      "        [5.1963e+07, 2.5620e+08]])\n",
      "Class 0\n",
      "TP 409829248.0, TN 256196608.0, FP 51963180.0, FN 88410816.0\n",
      "Class 1\n",
      "TP 256196608.0, TN 409829248.0, FP 88410816.0, FN 51963180.0\n",
      "\n",
      "Validation set: \n",
      "        Average loss: -373.055912412, \n",
      "        Accuracy BB: 333609863/403200000 (82.740541419%) ,\n",
      "        BB: \n",
      "        TP 256196608.0 \n",
      "        TN 409829248.0\n",
      "        FP 88410816.0\n",
      "        FN 51963180.0\n",
      "        Threat Score 0.6460302734702023\n",
      "====> Validation set loss: -0.592152242\n"
     ]
    },
    {
     "name": "stderr",
     "output_type": "stream",
     "text": [
      "/opt/conda/conda-bld/pytorch_1587428207430/work/aten/src/ATen/native/IndexingUtils.h:20: UserWarning: indexing with dtype torch.uint8 is now deprecated, please use a dtype torch.bool instead.\n",
      "/opt/conda/conda-bld/pytorch_1587428207430/work/aten/src/ATen/native/IndexingUtils.h:20: UserWarning: indexing with dtype torch.uint8 is now deprecated, please use a dtype torch.bool instead.\n",
      "/opt/conda/conda-bld/pytorch_1587428207430/work/aten/src/ATen/native/IndexingUtils.h:20: UserWarning: indexing with dtype torch.uint8 is now deprecated, please use a dtype torch.bool instead.\n",
      "/opt/conda/conda-bld/pytorch_1587428207430/work/aten/src/ATen/native/IndexingUtils.h:20: UserWarning: indexing with dtype torch.uint8 is now deprecated, please use a dtype torch.bool instead.\n"
     ]
    },
    {
     "name": "stdout",
     "output_type": "stream",
     "text": [
      "Confusion matrix\n",
      " tensor([[4.1116e+08, 8.7080e+07],\n",
      "        [5.2225e+07, 2.5593e+08]])\n",
      "Class 0\n",
      "TP 411160320.0, TN 255934960.0, FP 52224956.0, FN 87079864.0\n",
      "Class 1\n",
      "TP 255934960.0, TN 411160320.0, FP 87079864.0, FN 52224956.0\n",
      "Updating threat score from 0.6475435306389811 to 0.6468307592072179\n",
      "\n",
      "Validation set: \n",
      "        Average loss: -373.055912412, \n",
      "        Accuracy BB: 333799328/403200000 (82.787531746%) ,\n",
      "        BB: \n",
      "        TP 255934960.0 \n",
      "        TN 411160320.0\n",
      "        FP 87079864.0\n",
      "        FN 52224956.0\n",
      "        Threat Score 0.6475435306389811\n",
      "====> Validation set loss: -0.592152242\n"
     ]
    },
    {
     "name": "stderr",
     "output_type": "stream",
     "text": [
      "/opt/conda/conda-bld/pytorch_1587428207430/work/aten/src/ATen/native/IndexingUtils.h:20: UserWarning: indexing with dtype torch.uint8 is now deprecated, please use a dtype torch.bool instead.\n",
      "/opt/conda/conda-bld/pytorch_1587428207430/work/aten/src/ATen/native/IndexingUtils.h:20: UserWarning: indexing with dtype torch.uint8 is now deprecated, please use a dtype torch.bool instead.\n",
      "/opt/conda/conda-bld/pytorch_1587428207430/work/aten/src/ATen/native/IndexingUtils.h:20: UserWarning: indexing with dtype torch.uint8 is now deprecated, please use a dtype torch.bool instead.\n",
      "/opt/conda/conda-bld/pytorch_1587428207430/work/aten/src/ATen/native/IndexingUtils.h:20: UserWarning: indexing with dtype torch.uint8 is now deprecated, please use a dtype torch.bool instead.\n"
     ]
    },
    {
     "name": "stdout",
     "output_type": "stream",
     "text": [
      "Confusion matrix\n",
      " tensor([[6.1589e+08, 1.3147e+08],\n",
      "        [7.8171e+07, 3.8407e+08]])\n",
      "Class 0\n",
      "TP 615893184.0, TN 384068192.0, FP 78171376.0, FN 131467144.0\n",
      "Class 1\n",
      "TP 384068192.0, TN 615893184.0, FP 131467144.0, FN 78171376.0\n",
      "\n",
      "Validation set: \n",
      "        Average loss: -373.055912412, \n",
      "        Accuracy BB: 333935407/403200000 (82.821281498%) ,\n",
      "        BB: \n",
      "        TP 384068192.0 \n",
      "        TN 615893184.0\n",
      "        FP 131467144.0\n",
      "        FN 78171376.0\n",
      "        Threat Score 0.6468988808157068\n",
      "====> Validation set loss: -0.592152242\n"
     ]
    },
    {
     "name": "stderr",
     "output_type": "stream",
     "text": [
      "/opt/conda/conda-bld/pytorch_1587428207430/work/aten/src/ATen/native/IndexingUtils.h:20: UserWarning: indexing with dtype torch.uint8 is now deprecated, please use a dtype torch.bool instead.\n",
      "/opt/conda/conda-bld/pytorch_1587428207430/work/aten/src/ATen/native/IndexingUtils.h:20: UserWarning: indexing with dtype torch.uint8 is now deprecated, please use a dtype torch.bool instead.\n",
      "/opt/conda/conda-bld/pytorch_1587428207430/work/aten/src/ATen/native/IndexingUtils.h:20: UserWarning: indexing with dtype torch.uint8 is now deprecated, please use a dtype torch.bool instead.\n",
      "/opt/conda/conda-bld/pytorch_1587428207430/work/aten/src/ATen/native/IndexingUtils.h:20: UserWarning: indexing with dtype torch.uint8 is now deprecated, please use a dtype torch.bool instead.\n"
     ]
    },
    {
     "name": "stdout",
     "output_type": "stream",
     "text": [
      "Confusion matrix\n",
      " tensor([[6.1736e+08, 1.3000e+08],\n",
      "        [7.8460e+07, 3.8378e+08]])\n",
      "Class 0\n",
      "TP 617356736.0, TN 383780032.0, FP 78459744.0, FN 130003064.0\n",
      "Class 1\n",
      "TP 383780032.0, TN 617356736.0, FP 130003064.0, FN 78459744.0\n",
      "Updating threat score from 0.6480112913687078 to 0.6475435306389811\n",
      "\n",
      "Validation set: \n",
      "        Average loss: -373.055912412, \n",
      "        Accuracy BB: 334042037/403200000 (82.847727431%) ,\n",
      "        BB: \n",
      "        TP 383780032.0 \n",
      "        TN 617356736.0\n",
      "        FP 130003064.0\n",
      "        FN 78459744.0\n",
      "        Threat Score 0.6480112913687078\n",
      "====> Validation set loss: -0.592152242\n"
     ]
    },
    {
     "name": "stderr",
     "output_type": "stream",
     "text": [
      "/opt/conda/conda-bld/pytorch_1587428207430/work/aten/src/ATen/native/IndexingUtils.h:20: UserWarning: indexing with dtype torch.uint8 is now deprecated, please use a dtype torch.bool instead.\n",
      "/opt/conda/conda-bld/pytorch_1587428207430/work/aten/src/ATen/native/IndexingUtils.h:20: UserWarning: indexing with dtype torch.uint8 is now deprecated, please use a dtype torch.bool instead.\n",
      "/opt/conda/conda-bld/pytorch_1587428207430/work/aten/src/ATen/native/IndexingUtils.h:20: UserWarning: indexing with dtype torch.uint8 is now deprecated, please use a dtype torch.bool instead.\n",
      "/opt/conda/conda-bld/pytorch_1587428207430/work/aten/src/ATen/native/IndexingUtils.h:20: UserWarning: indexing with dtype torch.uint8 is now deprecated, please use a dtype torch.bool instead.\n"
     ]
    },
    {
     "name": "stdout",
     "output_type": "stream",
     "text": [
      "Confusion matrix\n",
      " tensor([[8.2220e+08, 1.7428e+08],\n",
      "        [1.0443e+08, 5.1189e+08]])\n",
      "Class 0\n",
      "TP 822199040.0, TN 511891072.0, FP 104428248.0, FN 174280608.0\n",
      "Class 1\n",
      "TP 511891072.0, TN 822199040.0, FP 174280608.0, FN 104428248.0\n",
      "\n",
      "Validation set: \n",
      "        Average loss: -373.055912412, \n",
      "        Accuracy BB: 334129666/403200000 (82.869460813%) ,\n",
      "        BB: \n",
      "        TP 511891072.0 \n",
      "        TN 822199040.0\n",
      "        FP 174280608.0\n",
      "        FN 104428248.0\n",
      "        Threat Score 0.6474717364993452\n",
      "====> Validation set loss: -0.592152242\n"
     ]
    },
    {
     "name": "stderr",
     "output_type": "stream",
     "text": [
      "/opt/conda/conda-bld/pytorch_1587428207430/work/aten/src/ATen/native/IndexingUtils.h:20: UserWarning: indexing with dtype torch.uint8 is now deprecated, please use a dtype torch.bool instead.\n",
      "/opt/conda/conda-bld/pytorch_1587428207430/work/aten/src/ATen/native/IndexingUtils.h:20: UserWarning: indexing with dtype torch.uint8 is now deprecated, please use a dtype torch.bool instead.\n",
      "/opt/conda/conda-bld/pytorch_1587428207430/work/aten/src/ATen/native/IndexingUtils.h:20: UserWarning: indexing with dtype torch.uint8 is now deprecated, please use a dtype torch.bool instead.\n",
      "/opt/conda/conda-bld/pytorch_1587428207430/work/aten/src/ATen/native/IndexingUtils.h:20: UserWarning: indexing with dtype torch.uint8 is now deprecated, please use a dtype torch.bool instead.\n"
     ]
    },
    {
     "name": "stdout",
     "output_type": "stream",
     "text": [
      "Confusion matrix\n",
      " tensor([[8.2376e+08, 1.7272e+08],\n",
      "        [1.0474e+08, 5.1158e+08]])\n",
      "Class 0\n",
      "TP 823757632.0, TN 511584000.0, FP 104735536.0, FN 172722640.0\n",
      "Class 1\n",
      "TP 511584000.0, TN 823757632.0, FP 172722640.0, FN 104735536.0\n",
      "Updating threat score from 0.6483607791328001 to 0.6480112913687078\n",
      "\n",
      "Validation set: \n",
      "        Average loss: -373.055912412, \n",
      "        Accuracy BB: 334204681/403200000 (82.888065724%) ,\n",
      "        BB: \n",
      "        TP 511584000.0 \n",
      "        TN 823757632.0\n",
      "        FP 172722640.0\n",
      "        FN 104735536.0\n",
      "        Threat Score 0.6483607791328001\n",
      "====> Validation set loss: -0.592152242\n"
     ]
    },
    {
     "name": "stderr",
     "output_type": "stream",
     "text": [
      "/opt/conda/conda-bld/pytorch_1587428207430/work/aten/src/ATen/native/IndexingUtils.h:20: UserWarning: indexing with dtype torch.uint8 is now deprecated, please use a dtype torch.bool instead.\n",
      "/opt/conda/conda-bld/pytorch_1587428207430/work/aten/src/ATen/native/IndexingUtils.h:20: UserWarning: indexing with dtype torch.uint8 is now deprecated, please use a dtype torch.bool instead.\n",
      "/opt/conda/conda-bld/pytorch_1587428207430/work/aten/src/ATen/native/IndexingUtils.h:20: UserWarning: indexing with dtype torch.uint8 is now deprecated, please use a dtype torch.bool instead.\n",
      "/opt/conda/conda-bld/pytorch_1587428207430/work/aten/src/ATen/native/IndexingUtils.h:20: UserWarning: indexing with dtype torch.uint8 is now deprecated, please use a dtype torch.bool instead.\n"
     ]
    },
    {
     "name": "stdout",
     "output_type": "stream",
     "text": [
      "Confusion matrix\n",
      " tensor([[1.0287e+09, 2.1692e+08],\n",
      "        [1.3072e+08, 6.3968e+08]])\n",
      "Class 0\n",
      "TP 1028683520.0, TN 639678272.0, FP 130720912.0, FN 216916560.0\n",
      "Class 1\n",
      "TP 639678272.0, TN 1028683520.0, FP 216916560.0, FN 130720912.0\n",
      "\n",
      "Validation set: \n",
      "        Average loss: -373.055912412, \n",
      "        Accuracy BB: 334271219/403200000 (82.904568204%) ,\n",
      "        BB: \n",
      "        TP 639678272.0 \n",
      "        TN 1028683520.0\n",
      "        FP 216916560.0\n",
      "        FN 130720912.0\n",
      "        Threat Score 0.647896376230261\n",
      "====> Validation set loss: -0.592152242\n"
     ]
    },
    {
     "name": "stderr",
     "output_type": "stream",
     "text": [
      "/opt/conda/conda-bld/pytorch_1587428207430/work/aten/src/ATen/native/IndexingUtils.h:20: UserWarning: indexing with dtype torch.uint8 is now deprecated, please use a dtype torch.bool instead.\n",
      "/opt/conda/conda-bld/pytorch_1587428207430/work/aten/src/ATen/native/IndexingUtils.h:20: UserWarning: indexing with dtype torch.uint8 is now deprecated, please use a dtype torch.bool instead.\n",
      "/opt/conda/conda-bld/pytorch_1587428207430/work/aten/src/ATen/native/IndexingUtils.h:20: UserWarning: indexing with dtype torch.uint8 is now deprecated, please use a dtype torch.bool instead.\n",
      "/opt/conda/conda-bld/pytorch_1587428207430/work/aten/src/ATen/native/IndexingUtils.h:20: UserWarning: indexing with dtype torch.uint8 is now deprecated, please use a dtype torch.bool instead.\n"
     ]
    },
    {
     "name": "stdout",
     "output_type": "stream",
     "text": [
      "Confusion matrix\n",
      " tensor([[1.0303e+09, 2.1528e+08],\n",
      "        [1.3104e+08, 6.3936e+08]])\n",
      "Class 0\n",
      "TP 1030315840.0, TN 639355584.0, FP 131043584.0, FN 215284720.0\n",
      "Class 1\n",
      "TP 639355584.0, TN 1030315840.0, FP 215284720.0, FN 131043584.0\n",
      "Updating threat score from 0.6486415994066999 to 0.6483607791328001\n",
      "\n",
      "Validation set: \n",
      "        Average loss: -373.055912412, \n",
      "        Accuracy BB: 334329939/403200000 (82.919131696%) ,\n",
      "        BB: \n",
      "        TP 639355584.0 \n",
      "        TN 1030315840.0\n",
      "        FP 215284720.0\n",
      "        FN 131043584.0\n",
      "        Threat Score 0.6486415994066999\n",
      "====> Validation set loss: -0.592152242\n"
     ]
    },
    {
     "name": "stderr",
     "output_type": "stream",
     "text": [
      "/opt/conda/conda-bld/pytorch_1587428207430/work/aten/src/ATen/native/IndexingUtils.h:20: UserWarning: indexing with dtype torch.uint8 is now deprecated, please use a dtype torch.bool instead.\n",
      "/opt/conda/conda-bld/pytorch_1587428207430/work/aten/src/ATen/native/IndexingUtils.h:20: UserWarning: indexing with dtype torch.uint8 is now deprecated, please use a dtype torch.bool instead.\n",
      "/opt/conda/conda-bld/pytorch_1587428207430/work/aten/src/ATen/native/IndexingUtils.h:20: UserWarning: indexing with dtype torch.uint8 is now deprecated, please use a dtype torch.bool instead.\n",
      "/opt/conda/conda-bld/pytorch_1587428207430/work/aten/src/ATen/native/IndexingUtils.h:20: UserWarning: indexing with dtype torch.uint8 is now deprecated, please use a dtype torch.bool instead.\n"
     ]
    },
    {
     "name": "stdout",
     "output_type": "stream",
     "text": [
      "Confusion matrix\n",
      " tensor([[1.2353e+09, 2.5941e+08],\n",
      "        [1.5704e+08, 7.6744e+08]])\n",
      "Class 0\n",
      "TP 1235310464.0, TN 767435584.0, FP 157043168.0, FN 259410688.0\n",
      "Class 1\n",
      "TP 767435584.0, TN 1235310464.0, FP 259410688.0, FN 157043168.0\n",
      "\n",
      "Validation set: \n",
      "        Average loss: -373.055912412, \n",
      "        Accuracy BB: 334383776/403200000 (82.932484127%) ,\n",
      "        BB: \n",
      "        TP 767435584.0 \n",
      "        TN 1235310464.0\n",
      "        FP 259410688.0\n",
      "        FN 157043168.0\n",
      "        Threat Score 0.6482324943648791\n",
      "====> Validation set loss: -0.592152242\n"
     ]
    },
    {
     "name": "stderr",
     "output_type": "stream",
     "text": [
      "/opt/conda/conda-bld/pytorch_1587428207430/work/aten/src/ATen/native/IndexingUtils.h:20: UserWarning: indexing with dtype torch.uint8 is now deprecated, please use a dtype torch.bool instead.\n",
      "/opt/conda/conda-bld/pytorch_1587428207430/work/aten/src/ATen/native/IndexingUtils.h:20: UserWarning: indexing with dtype torch.uint8 is now deprecated, please use a dtype torch.bool instead.\n",
      "/opt/conda/conda-bld/pytorch_1587428207430/work/aten/src/ATen/native/IndexingUtils.h:20: UserWarning: indexing with dtype torch.uint8 is now deprecated, please use a dtype torch.bool instead.\n",
      "/opt/conda/conda-bld/pytorch_1587428207430/work/aten/src/ATen/native/IndexingUtils.h:20: UserWarning: indexing with dtype torch.uint8 is now deprecated, please use a dtype torch.bool instead.\n"
     ]
    },
    {
     "name": "stdout",
     "output_type": "stream",
     "text": [
      "Confusion matrix\n",
      " tensor([[1.2370e+09, 2.5772e+08],\n",
      "        [1.5738e+08, 7.6710e+08]])\n",
      "Class 0\n",
      "TP 1237004544.0, TN 767099264.0, FP 157379248.0, FN 257715168.0\n",
      "Class 1\n",
      "TP 767099264.0, TN 1237004544.0, FP 257715168.0, FN 157379248.0\n",
      "Updating threat score from 0.6488778339451496 to 0.6486415994066999\n",
      "\n",
      "Validation set: \n",
      "        Average loss: -373.055912412, \n",
      "        Accuracy BB: 334434023/403200000 (82.944946181%) ,\n",
      "        BB: \n",
      "        TP 767099264.0 \n",
      "        TN 1237004544.0\n",
      "        FP 257715168.0\n",
      "        FN 157379248.0\n",
      "        Threat Score 0.6488778339451496\n",
      "====> Validation set loss: -0.592152242\n"
     ]
    },
    {
     "name": "stderr",
     "output_type": "stream",
     "text": [
      "/opt/conda/conda-bld/pytorch_1587428207430/work/aten/src/ATen/native/IndexingUtils.h:20: UserWarning: indexing with dtype torch.uint8 is now deprecated, please use a dtype torch.bool instead.\n",
      "/opt/conda/conda-bld/pytorch_1587428207430/work/aten/src/ATen/native/IndexingUtils.h:20: UserWarning: indexing with dtype torch.uint8 is now deprecated, please use a dtype torch.bool instead.\n",
      "/opt/conda/conda-bld/pytorch_1587428207430/work/aten/src/ATen/native/IndexingUtils.h:20: UserWarning: indexing with dtype torch.uint8 is now deprecated, please use a dtype torch.bool instead.\n",
      "/opt/conda/conda-bld/pytorch_1587428207430/work/aten/src/ATen/native/IndexingUtils.h:20: UserWarning: indexing with dtype torch.uint8 is now deprecated, please use a dtype torch.bool instead.\n"
     ]
    },
    {
     "name": "stdout",
     "output_type": "stream",
     "text": [
      "Confusion matrix\n",
      " tensor([[1.4421e+09, 3.0178e+08],\n",
      "        [1.8339e+08, 8.9517e+08]])\n",
      "Class 0\n",
      "TP 1442058880.0, TN 895166784.0, FP 183391600.0, FN 301781888.0\n",
      "Class 1\n",
      "TP 895166784.0, TN 1442058880.0, FP 301781888.0, FN 183391600.0\n",
      "\n",
      "Validation set: \n",
      "        Average loss: -373.055912412, \n",
      "        Accuracy BB: 334480397/403200000 (82.956447669%) ,\n",
      "        BB: \n",
      "        TP 895166784.0 \n",
      "        TN 1442058880.0\n",
      "        FP 301781888.0\n",
      "        FN 183391600.0\n",
      "        Threat Score 0.6485116389613451\n",
      "====> Validation set loss: -0.592152242\n"
     ]
    },
    {
     "name": "stderr",
     "output_type": "stream",
     "text": [
      "/opt/conda/conda-bld/pytorch_1587428207430/work/aten/src/ATen/native/IndexingUtils.h:20: UserWarning: indexing with dtype torch.uint8 is now deprecated, please use a dtype torch.bool instead.\n",
      "/opt/conda/conda-bld/pytorch_1587428207430/work/aten/src/ATen/native/IndexingUtils.h:20: UserWarning: indexing with dtype torch.uint8 is now deprecated, please use a dtype torch.bool instead.\n",
      "/opt/conda/conda-bld/pytorch_1587428207430/work/aten/src/ATen/native/IndexingUtils.h:20: UserWarning: indexing with dtype torch.uint8 is now deprecated, please use a dtype torch.bool instead.\n",
      "/opt/conda/conda-bld/pytorch_1587428207430/work/aten/src/ATen/native/IndexingUtils.h:20: UserWarning: indexing with dtype torch.uint8 is now deprecated, please use a dtype torch.bool instead.\n"
     ]
    },
    {
     "name": "stdout",
     "output_type": "stream",
     "text": [
      "Confusion matrix\n",
      " tensor([[1.4438e+09, 3.0003e+08],\n",
      "        [1.8374e+08, 8.9482e+08]])\n",
      "Class 0\n",
      "TP 1443810176.0, TN 894818688.0, FP 183739840.0, FN 300029856.0\n",
      "Class 1\n",
      "TP 894818688.0, TN 1443810176.0, FP 300029856.0, FN 183739840.0\n",
      "Updating threat score from 0.6490832779491453 to 0.6488778339451496\n",
      "\n",
      "Validation set: \n",
      "        Average loss: -373.055912412, \n",
      "        Accuracy BB: 334524747/403200000 (82.967447173%) ,\n",
      "        BB: \n",
      "        TP 894818688.0 \n",
      "        TN 1443810176.0\n",
      "        FP 300029856.0\n",
      "        FN 183739840.0\n",
      "        Threat Score 0.6490832779491453\n",
      "====> Validation set loss: -0.592152242\n"
     ]
    },
    {
     "name": "stderr",
     "output_type": "stream",
     "text": [
      "/opt/conda/conda-bld/pytorch_1587428207430/work/aten/src/ATen/native/IndexingUtils.h:20: UserWarning: indexing with dtype torch.uint8 is now deprecated, please use a dtype torch.bool instead.\n",
      "/opt/conda/conda-bld/pytorch_1587428207430/work/aten/src/ATen/native/IndexingUtils.h:20: UserWarning: indexing with dtype torch.uint8 is now deprecated, please use a dtype torch.bool instead.\n",
      "/opt/conda/conda-bld/pytorch_1587428207430/work/aten/src/ATen/native/IndexingUtils.h:20: UserWarning: indexing with dtype torch.uint8 is now deprecated, please use a dtype torch.bool instead.\n",
      "/opt/conda/conda-bld/pytorch_1587428207430/work/aten/src/ATen/native/IndexingUtils.h:20: UserWarning: indexing with dtype torch.uint8 is now deprecated, please use a dtype torch.bool instead.\n"
     ]
    },
    {
     "name": "stdout",
     "output_type": "stream",
     "text": [
      "Confusion matrix\n",
      " tensor([[1.6489e+09, 3.4404e+08],\n",
      "        [2.0976e+08, 1.0229e+09]])\n",
      "Class 0\n",
      "TP 1648919552.0, TN 1022873792.0, FP 209763952.0, FN 344042656.0\n",
      "Class 1\n",
      "TP 1022873792.0, TN 1648919552.0, FP 344042656.0, FN 209763952.0\n",
      "\n",
      "Validation set: \n",
      "        Average loss: -373.055912412, \n",
      "        Accuracy BB: 334566876/403200000 (82.977895833%) ,\n",
      "        BB: \n",
      "        TP 1022873792.0 \n",
      "        TN 1648919552.0\n",
      "        FP 344042656.0\n",
      "        FN 209763952.0\n",
      "        Threat Score 0.6487514913358018\n",
      "====> Validation set loss: -0.592152242\n"
     ]
    },
    {
     "name": "stderr",
     "output_type": "stream",
     "text": [
      "/opt/conda/conda-bld/pytorch_1587428207430/work/aten/src/ATen/native/IndexingUtils.h:20: UserWarning: indexing with dtype torch.uint8 is now deprecated, please use a dtype torch.bool instead.\n",
      "/opt/conda/conda-bld/pytorch_1587428207430/work/aten/src/ATen/native/IndexingUtils.h:20: UserWarning: indexing with dtype torch.uint8 is now deprecated, please use a dtype torch.bool instead.\n",
      "/opt/conda/conda-bld/pytorch_1587428207430/work/aten/src/ATen/native/IndexingUtils.h:20: UserWarning: indexing with dtype torch.uint8 is now deprecated, please use a dtype torch.bool instead.\n",
      "/opt/conda/conda-bld/pytorch_1587428207430/work/aten/src/ATen/native/IndexingUtils.h:20: UserWarning: indexing with dtype torch.uint8 is now deprecated, please use a dtype torch.bool instead.\n"
     ]
    },
    {
     "name": "stdout",
     "output_type": "stream",
     "text": [
      "Confusion matrix\n",
      " tensor([[1.6507e+09, 3.4224e+08],\n",
      "        [2.1012e+08, 1.0225e+09]])\n",
      "Class 0\n",
      "TP 1650722176.0, TN 1022515008.0, FP 210124048.0, FN 342238400.0\n",
      "Class 1\n",
      "TP 1022515008.0, TN 1650722176.0, FP 342238400.0, FN 210124048.0\n",
      "Updating threat score from 0.6492664013270772 to 0.6490832779491453\n",
      "\n",
      "Validation set: \n",
      "        Average loss: -373.055912412, \n",
      "        Accuracy BB: 334607080/403200000 (82.987867063%) ,\n",
      "        BB: \n",
      "        TP 1022515008.0 \n",
      "        TN 1650722176.0\n",
      "        FP 342238400.0\n",
      "        FN 210124048.0\n",
      "        Threat Score 0.6492664013270772\n",
      "====> Validation set loss: -0.592152242\n"
     ]
    },
    {
     "name": "stderr",
     "output_type": "stream",
     "text": [
      "/opt/conda/conda-bld/pytorch_1587428207430/work/aten/src/ATen/native/IndexingUtils.h:20: UserWarning: indexing with dtype torch.uint8 is now deprecated, please use a dtype torch.bool instead.\n",
      "/opt/conda/conda-bld/pytorch_1587428207430/work/aten/src/ATen/native/IndexingUtils.h:20: UserWarning: indexing with dtype torch.uint8 is now deprecated, please use a dtype torch.bool instead.\n",
      "/opt/conda/conda-bld/pytorch_1587428207430/work/aten/src/ATen/native/IndexingUtils.h:20: UserWarning: indexing with dtype torch.uint8 is now deprecated, please use a dtype torch.bool instead.\n",
      "/opt/conda/conda-bld/pytorch_1587428207430/work/aten/src/ATen/native/IndexingUtils.h:20: UserWarning: indexing with dtype torch.uint8 is now deprecated, please use a dtype torch.bool instead.\n"
     ]
    },
    {
     "name": "stdout",
     "output_type": "stream",
     "text": [
      "Confusion matrix\n",
      " tensor([[1.8559e+09, 3.8620e+08],\n",
      "        [2.3616e+08, 1.1506e+09]])\n",
      "Class 0\n",
      "TP 1855880448.0, TN 1150557568.0, FP 236159664.0, FN 386201344.0\n",
      "Class 1\n",
      "TP 1150557568.0, TN 1855880448.0, FP 386201344.0, FN 236159664.0\n",
      "\n",
      "Validation set: \n",
      "        Average loss: -373.055912412, \n",
      "        Accuracy BB: 334645512/403200000 (82.997398810%) ,\n",
      "        BB: \n",
      "        TP 1150557568.0 \n",
      "        TN 1855880448.0\n",
      "        FP 386201344.0\n",
      "        FN 236159664.0\n",
      "        Threat Score 0.6489624592608465\n",
      "====> Validation set loss: -0.592152242\n"
     ]
    },
    {
     "name": "stderr",
     "output_type": "stream",
     "text": [
      "/opt/conda/conda-bld/pytorch_1587428207430/work/aten/src/ATen/native/IndexingUtils.h:20: UserWarning: indexing with dtype torch.uint8 is now deprecated, please use a dtype torch.bool instead.\n",
      "/opt/conda/conda-bld/pytorch_1587428207430/work/aten/src/ATen/native/IndexingUtils.h:20: UserWarning: indexing with dtype torch.uint8 is now deprecated, please use a dtype torch.bool instead.\n",
      "/opt/conda/conda-bld/pytorch_1587428207430/work/aten/src/ATen/native/IndexingUtils.h:20: UserWarning: indexing with dtype torch.uint8 is now deprecated, please use a dtype torch.bool instead.\n",
      "/opt/conda/conda-bld/pytorch_1587428207430/work/aten/src/ATen/native/IndexingUtils.h:20: UserWarning: indexing with dtype torch.uint8 is now deprecated, please use a dtype torch.bool instead.\n"
     ]
    },
    {
     "name": "stdout",
     "output_type": "stream",
     "text": [
      "Confusion matrix\n",
      " tensor([[1.8577e+09, 3.8435e+08],\n",
      "        [2.3653e+08, 1.1502e+09]])\n",
      "Class 0\n",
      "TP 1857733248.0, TN 1150186240.0, FP 236531088.0, FN 384348352.0\n",
      "Class 1\n",
      "TP 1150186240.0, TN 1857733248.0, FP 384348352.0, FN 236531088.0\n",
      "Updating threat score from 0.6494317075961169 to 0.6492664013270772\n",
      "\n",
      "Validation set: \n",
      "        Average loss: -373.055912412, \n",
      "        Accuracy BB: 334682708/403200000 (83.006624008%) ,\n",
      "        BB: \n",
      "        TP 1150186240.0 \n",
      "        TN 1857733248.0\n",
      "        FP 384348352.0\n",
      "        FN 236531088.0\n",
      "        Threat Score 0.6494317075961169\n",
      "====> Validation set loss: -0.592152242\n"
     ]
    },
    {
     "name": "stderr",
     "output_type": "stream",
     "text": [
      "/opt/conda/conda-bld/pytorch_1587428207430/work/aten/src/ATen/native/IndexingUtils.h:20: UserWarning: indexing with dtype torch.uint8 is now deprecated, please use a dtype torch.bool instead.\n",
      "/opt/conda/conda-bld/pytorch_1587428207430/work/aten/src/ATen/native/IndexingUtils.h:20: UserWarning: indexing with dtype torch.uint8 is now deprecated, please use a dtype torch.bool instead.\n",
      "/opt/conda/conda-bld/pytorch_1587428207430/work/aten/src/ATen/native/IndexingUtils.h:20: UserWarning: indexing with dtype torch.uint8 is now deprecated, please use a dtype torch.bool instead.\n",
      "/opt/conda/conda-bld/pytorch_1587428207430/work/aten/src/ATen/native/IndexingUtils.h:20: UserWarning: indexing with dtype torch.uint8 is now deprecated, please use a dtype torch.bool instead.\n"
     ]
    },
    {
     "name": "stdout",
     "output_type": "stream",
     "text": [
      "Confusion matrix\n",
      " tensor([[2.0629e+09, 4.2826e+08],\n",
      "        [2.6258e+08, 1.2782e+09]])\n",
      "Class 0\n",
      "TP 2062936448.0, TN 1278219008.0, FP 262577248.0, FN 428264288.0\n",
      "Class 1\n",
      "TP 1278219008.0, TN 2062936448.0, FP 428264288.0, FN 262577248.0\n",
      "\n",
      "Validation set: \n",
      "        Average loss: -373.055912412, \n",
      "        Accuracy BB: 334718897/403200000 (83.015599454%) ,\n",
      "        BB: \n",
      "        TP 1278219008.0 \n",
      "        TN 2062936448.0\n",
      "        FP 428264288.0\n",
      "        FN 262577248.0\n",
      "        Threat Score 0.649151683196945\n",
      "====> Validation set loss: -0.592152242\n"
     ]
    },
    {
     "name": "stderr",
     "output_type": "stream",
     "text": [
      "/opt/conda/conda-bld/pytorch_1587428207430/work/aten/src/ATen/native/IndexingUtils.h:20: UserWarning: indexing with dtype torch.uint8 is now deprecated, please use a dtype torch.bool instead.\n",
      "/opt/conda/conda-bld/pytorch_1587428207430/work/aten/src/ATen/native/IndexingUtils.h:20: UserWarning: indexing with dtype torch.uint8 is now deprecated, please use a dtype torch.bool instead.\n",
      "/opt/conda/conda-bld/pytorch_1587428207430/work/aten/src/ATen/native/IndexingUtils.h:20: UserWarning: indexing with dtype torch.uint8 is now deprecated, please use a dtype torch.bool instead.\n",
      "/opt/conda/conda-bld/pytorch_1587428207430/work/aten/src/ATen/native/IndexingUtils.h:20: UserWarning: indexing with dtype torch.uint8 is now deprecated, please use a dtype torch.bool instead.\n"
     ]
    },
    {
     "name": "stdout",
     "output_type": "stream",
     "text": [
      "Confusion matrix\n",
      " tensor([[2.0648e+09, 4.2637e+08],\n",
      "        [2.6296e+08, 1.2778e+09]])\n",
      "Class 0\n",
      "TP 2064834944.0, TN 1277838080.0, FP 262959472.0, FN 426365792.0\n",
      "Class 1\n",
      "TP 1277838080.0, TN 2064834944.0, FP 426365792.0, FN 262959472.0\n",
      "Updating threat score from 0.649584109381393 to 0.6494317075961169\n",
      "\n",
      "Validation set: \n",
      "        Average loss: -373.055912412, \n",
      "        Accuracy BB: 334754247/403200000 (83.024366815%) ,\n",
      "        BB: \n",
      "        TP 1277838080.0 \n",
      "        TN 2064834944.0\n",
      "        FP 426365792.0\n",
      "        FN 262959472.0\n",
      "        Threat Score 0.649584109381393\n",
      "====> Validation set loss: -0.592152242\n"
     ]
    },
    {
     "name": "stderr",
     "output_type": "stream",
     "text": [
      "/opt/conda/conda-bld/pytorch_1587428207430/work/aten/src/ATen/native/IndexingUtils.h:20: UserWarning: indexing with dtype torch.uint8 is now deprecated, please use a dtype torch.bool instead.\n",
      "/opt/conda/conda-bld/pytorch_1587428207430/work/aten/src/ATen/native/IndexingUtils.h:20: UserWarning: indexing with dtype torch.uint8 is now deprecated, please use a dtype torch.bool instead.\n",
      "/opt/conda/conda-bld/pytorch_1587428207430/work/aten/src/ATen/native/IndexingUtils.h:20: UserWarning: indexing with dtype torch.uint8 is now deprecated, please use a dtype torch.bool instead.\n",
      "/opt/conda/conda-bld/pytorch_1587428207430/work/aten/src/ATen/native/IndexingUtils.h:20: UserWarning: indexing with dtype torch.uint8 is now deprecated, please use a dtype torch.bool instead.\n"
     ]
    },
    {
     "name": "stdout",
     "output_type": "stream",
     "text": [
      "Confusion matrix\n",
      " tensor([[2.2701e+09, 4.7024e+08],\n",
      "        [2.8902e+08, 1.4059e+09]])\n",
      "Class 0\n",
      "TP 2270086144.0, TN 1405859712.0, FP 289016448.0, FN 470237280.0\n",
      "Class 1\n",
      "TP 1405859712.0, TN 2270086144.0, FP 470237280.0, FN 289016448.0\n",
      "\n",
      "Validation set: \n",
      "        Average loss: -373.055912412, \n",
      "        Accuracy BB: 334788151/403200000 (83.032775546%) ,\n",
      "        BB: \n",
      "        TP 1405859712.0 \n",
      "        TN 2270086144.0\n",
      "        FP 470237280.0\n",
      "        FN 289016448.0\n",
      "        Threat Score 0.6493238406644821\n",
      "====> Validation set loss: -0.592152242\n"
     ]
    },
    {
     "name": "stderr",
     "output_type": "stream",
     "text": [
      "/opt/conda/conda-bld/pytorch_1587428207430/work/aten/src/ATen/native/IndexingUtils.h:20: UserWarning: indexing with dtype torch.uint8 is now deprecated, please use a dtype torch.bool instead.\n",
      "/opt/conda/conda-bld/pytorch_1587428207430/work/aten/src/ATen/native/IndexingUtils.h:20: UserWarning: indexing with dtype torch.uint8 is now deprecated, please use a dtype torch.bool instead.\n",
      "/opt/conda/conda-bld/pytorch_1587428207430/work/aten/src/ATen/native/IndexingUtils.h:20: UserWarning: indexing with dtype torch.uint8 is now deprecated, please use a dtype torch.bool instead.\n",
      "/opt/conda/conda-bld/pytorch_1587428207430/work/aten/src/ATen/native/IndexingUtils.h:20: UserWarning: indexing with dtype torch.uint8 is now deprecated, please use a dtype torch.bool instead.\n"
     ]
    },
    {
     "name": "stdout",
     "output_type": "stream",
     "text": [
      "Confusion matrix\n",
      " tensor([[2.2720e+09, 4.6830e+08],\n",
      "        [2.8941e+08, 1.4055e+09]])\n",
      "Class 0\n",
      "TP 2272025856.0, TN 1405468800.0, FP 289408896.0, FN 468295104.0\n",
      "Class 1\n",
      "TP 1405468800.0, TN 2272025856.0, FP 468295104.0, FN 289408896.0\n",
      "Updating threat score from 0.6497256060253537 to 0.649584109381393\n",
      "\n",
      "Validation set: \n",
      "        Average loss: -373.055912412, \n",
      "        Accuracy BB: 334821472/403200000 (83.041039683%) ,\n",
      "        BB: \n",
      "        TP 1405468800.0 \n",
      "        TN 2272025856.0\n",
      "        FP 468295104.0\n",
      "        FN 289408896.0\n",
      "        Threat Score 0.6497256060253537\n",
      "====> Validation set loss: -0.592152242\n"
     ]
    },
    {
     "name": "stderr",
     "output_type": "stream",
     "text": [
      "/opt/conda/conda-bld/pytorch_1587428207430/work/aten/src/ATen/native/IndexingUtils.h:20: UserWarning: indexing with dtype torch.uint8 is now deprecated, please use a dtype torch.bool instead.\n",
      "/opt/conda/conda-bld/pytorch_1587428207430/work/aten/src/ATen/native/IndexingUtils.h:20: UserWarning: indexing with dtype torch.uint8 is now deprecated, please use a dtype torch.bool instead.\n",
      "/opt/conda/conda-bld/pytorch_1587428207430/work/aten/src/ATen/native/IndexingUtils.h:20: UserWarning: indexing with dtype torch.uint8 is now deprecated, please use a dtype torch.bool instead.\n",
      "/opt/conda/conda-bld/pytorch_1587428207430/work/aten/src/ATen/native/IndexingUtils.h:20: UserWarning: indexing with dtype torch.uint8 is now deprecated, please use a dtype torch.bool instead.\n"
     ]
    },
    {
     "name": "stdout",
     "output_type": "stream",
     "text": [
      "Confusion matrix\n",
      " tensor([[2.4773e+09, 5.1212e+08],\n",
      "        [3.1548e+08, 1.5335e+09]])\n",
      "Class 0\n",
      "TP 2477318400.0, TN 1533480448.0, FP 315475840.0, FN 512123488.0\n",
      "Class 1\n",
      "TP 1533480448.0, TN 2477318400.0, FP 512123488.0, FN 315475840.0\n",
      "\n",
      "Validation set: \n",
      "        Average loss: -373.055912412, \n",
      "        Accuracy BB: 334854443/403200000 (83.049217014%) ,\n",
      "        BB: \n",
      "        TP 1533480448.0 \n",
      "        TN 2477318400.0\n",
      "        FP 512123488.0\n",
      "        FN 315475840.0\n",
      "        Threat Score 0.6494826827979887\n",
      "====> Validation set loss: -0.592152242\n"
     ]
    },
    {
     "name": "stderr",
     "output_type": "stream",
     "text": [
      "/opt/conda/conda-bld/pytorch_1587428207430/work/aten/src/ATen/native/IndexingUtils.h:20: UserWarning: indexing with dtype torch.uint8 is now deprecated, please use a dtype torch.bool instead.\n",
      "/opt/conda/conda-bld/pytorch_1587428207430/work/aten/src/ATen/native/IndexingUtils.h:20: UserWarning: indexing with dtype torch.uint8 is now deprecated, please use a dtype torch.bool instead.\n",
      "/opt/conda/conda-bld/pytorch_1587428207430/work/aten/src/ATen/native/IndexingUtils.h:20: UserWarning: indexing with dtype torch.uint8 is now deprecated, please use a dtype torch.bool instead.\n",
      "/opt/conda/conda-bld/pytorch_1587428207430/work/aten/src/ATen/native/IndexingUtils.h:20: UserWarning: indexing with dtype torch.uint8 is now deprecated, please use a dtype torch.bool instead.\n"
     ]
    },
    {
     "name": "stdout",
     "output_type": "stream",
     "text": [
      "Confusion matrix\n",
      " tensor([[2.4793e+09, 5.1014e+08],\n",
      "        [3.1588e+08, 1.5331e+09]])\n",
      "Class 0\n",
      "TP 2479303424.0, TN 1533079040.0, FP 315878720.0, FN 510138720.0\n",
      "Class 1\n",
      "TP 1533079040.0, TN 2479303424.0, FP 510138720.0, FN 315878720.0\n",
      "Updating threat score from 0.6498585329641037 to 0.6497256060253537\n",
      "\n",
      "Validation set: \n",
      "        Average loss: -373.055912412, \n",
      "        Accuracy BB: 334886747/403200000 (83.057228919%) ,\n",
      "        BB: \n",
      "        TP 1533079040.0 \n",
      "        TN 2479303424.0\n",
      "        FP 510138720.0\n",
      "        FN 315878720.0\n",
      "        Threat Score 0.6498585329641037\n",
      "====> Validation set loss: -0.592152242\n"
     ]
    },
    {
     "name": "stderr",
     "output_type": "stream",
     "text": [
      "/opt/conda/conda-bld/pytorch_1587428207430/work/aten/src/ATen/native/IndexingUtils.h:20: UserWarning: indexing with dtype torch.uint8 is now deprecated, please use a dtype torch.bool instead.\n",
      "/opt/conda/conda-bld/pytorch_1587428207430/work/aten/src/ATen/native/IndexingUtils.h:20: UserWarning: indexing with dtype torch.uint8 is now deprecated, please use a dtype torch.bool instead.\n",
      "/opt/conda/conda-bld/pytorch_1587428207430/work/aten/src/ATen/native/IndexingUtils.h:20: UserWarning: indexing with dtype torch.uint8 is now deprecated, please use a dtype torch.bool instead.\n",
      "/opt/conda/conda-bld/pytorch_1587428207430/work/aten/src/ATen/native/IndexingUtils.h:20: UserWarning: indexing with dtype torch.uint8 is now deprecated, please use a dtype torch.bool instead.\n"
     ]
    },
    {
     "name": "stdout",
     "output_type": "stream",
     "text": [
      "Confusion matrix\n",
      " tensor([[2.6846e+09, 5.5392e+08],\n",
      "        [3.4196e+08, 1.6611e+09]])\n",
      "Class 0\n",
      "TP 2684641280.0, TN 1661080576.0, FP 341955584.0, FN 553924096.0\n",
      "Class 1\n",
      "TP 1661080576.0, TN 2684641280.0, FP 553924096.0, FN 341955584.0\n",
      "\n",
      "Validation set: \n",
      "        Average loss: -373.055912412, \n",
      "        Accuracy BB: 334919039/403200000 (83.065237847%) ,\n",
      "        BB: \n",
      "        TP 1661080576.0 \n",
      "        TN 2684641280.0\n",
      "        FP 553924096.0\n",
      "        FN 341955584.0\n",
      "        Threat Score 0.6496309718159342\n",
      "====> Validation set loss: -0.592152242\n"
     ]
    },
    {
     "name": "stderr",
     "output_type": "stream",
     "text": [
      "/opt/conda/conda-bld/pytorch_1587428207430/work/aten/src/ATen/native/IndexingUtils.h:20: UserWarning: indexing with dtype torch.uint8 is now deprecated, please use a dtype torch.bool instead.\n",
      "/opt/conda/conda-bld/pytorch_1587428207430/work/aten/src/ATen/native/IndexingUtils.h:20: UserWarning: indexing with dtype torch.uint8 is now deprecated, please use a dtype torch.bool instead.\n",
      "/opt/conda/conda-bld/pytorch_1587428207430/work/aten/src/ATen/native/IndexingUtils.h:20: UserWarning: indexing with dtype torch.uint8 is now deprecated, please use a dtype torch.bool instead.\n",
      "/opt/conda/conda-bld/pytorch_1587428207430/work/aten/src/ATen/native/IndexingUtils.h:20: UserWarning: indexing with dtype torch.uint8 is now deprecated, please use a dtype torch.bool instead.\n"
     ]
    },
    {
     "name": "stdout",
     "output_type": "stream",
     "text": [
      "Confusion matrix\n",
      " tensor([[2.6867e+09, 5.5190e+08],\n",
      "        [3.4237e+08, 1.6607e+09]])\n",
      "Class 0\n",
      "TP 2686665984.0, TN 1660669184.0, FP 342368512.0, FN 551897600.0\n",
      "Class 1\n",
      "TP 1660669184.0, TN 2686665984.0, FP 551897600.0, FN 342368512.0\n",
      "Updating threat score from 0.6499848299876476 to 0.6498585329641037\n",
      "\n",
      "Validation set: \n",
      "        Average loss: -373.055912412, \n",
      "        Accuracy BB: 334950851/403200000 (83.073127728%) ,\n",
      "        BB: \n",
      "        TP 1660669184.0 \n",
      "        TN 2686665984.0\n",
      "        FP 551897600.0\n",
      "        FN 342368512.0\n",
      "        Threat Score 0.6499848299876476\n",
      "====> Validation set loss: -0.592152242\n"
     ]
    },
    {
     "name": "stderr",
     "output_type": "stream",
     "text": [
      "/opt/conda/conda-bld/pytorch_1587428207430/work/aten/src/ATen/native/IndexingUtils.h:20: UserWarning: indexing with dtype torch.uint8 is now deprecated, please use a dtype torch.bool instead.\n",
      "/opt/conda/conda-bld/pytorch_1587428207430/work/aten/src/ATen/native/IndexingUtils.h:20: UserWarning: indexing with dtype torch.uint8 is now deprecated, please use a dtype torch.bool instead.\n",
      "/opt/conda/conda-bld/pytorch_1587428207430/work/aten/src/ATen/native/IndexingUtils.h:20: UserWarning: indexing with dtype torch.uint8 is now deprecated, please use a dtype torch.bool instead.\n",
      "/opt/conda/conda-bld/pytorch_1587428207430/work/aten/src/ATen/native/IndexingUtils.h:20: UserWarning: indexing with dtype torch.uint8 is now deprecated, please use a dtype torch.bool instead.\n"
     ]
    }
   ],
   "source": [
    "validate_model_Road(model=model, \n",
    "                  num_points=49, \n",
    "                  loss_function=loss_function_iou, \n",
    "                  device=device)"
   ]
  },
  {
   "cell_type": "code",
   "execution_count": null,
   "metadata": {},
   "outputs": [],
   "source": []
  }
 ],
 "metadata": {
  "kernelspec": {
   "display_name": "pDL",
   "language": "python",
   "name": "pdl"
  },
  "language_info": {
   "codemirror_mode": {
    "name": "ipython",
    "version": 3
   },
   "file_extension": ".py",
   "mimetype": "text/x-python",
   "name": "python",
   "nbconvert_exporter": "python",
   "pygments_lexer": "ipython3",
   "version": "3.8.2"
  }
 },
 "nbformat": 4,
 "nbformat_minor": 4
}
